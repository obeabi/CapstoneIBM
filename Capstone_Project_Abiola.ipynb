{
    "cells": [
        {
            "cell_type": "markdown",
            "metadata": {
                "collapsed": true
            },
            "source": "# Auto-workshop location for a new business in Hamilton, Ontario\n ## Report written by Abiola D. Obembe\n   ### Date: 23-01-2020"
        },
        {
            "cell_type": "markdown",
            "metadata": {},
            "source": "# 1.\tIntroduction\n\n\nHamilton is a port city in the Canadian province of Ontario. An industrialized city in the Golden Horseshoe at the west end of Lake Ontario, Hamilton has a population of 536,917, and its census metropolitan area, which includes Burlington and Grimsby, has a population of 747,545. The city is 58 kilometres (36 mi) southwest of Toronto, with which the Greater Toronto and Hamilton Area (GTHA) is formed. On January 1, 2001, the current boundaries of Hamilton were created through the amalgamation of the original city with other municipalities of the Regional Municipality of Hamilton\u2013Wentworth. Residents of the city are known as Hamiltonians. Since 1981, the metropolitan area has been listed as the ninth largest in Canada and the third largest in Ontario. Hamilton is home to the Royal Botanical Gardens, the Canadian Warplane Heritage Museum, the Bruce Trail, McMaster University, Redeemer University College and Mohawk College. McMaster University is ranked 4th in Canada and 77th in the world by Times Higher Education Rankings 2018\u201319.\n\nMr. Obembe has recently migrated to Ontario, Canada as a permanent resident and currently lives in the city of Hamilton. His long-term goal is to be an entrepreneur and hence part of the reasons he decided to relocate with his family to Canada. Apart from having huge funds to invest in a profitable business, the Canadian government offers incentives and tax waivers to business owners to assist entrepreneurs to establish successful businesses in Canada. After spending a few months in the city of Hamilton, Mr. Obembe is convinced to start his business empire in the city. However, after a careful study of the city, he is confident establishing an automobile repair workshop will be profitable. However, he is unsure of the best location for the workshop. The aim of this project is to utilize available data from the city of Hamilton and Foursquare location data to advise Mr. Obembe on the best location(s) for his workshop.\n\n\n\n\n"
        },
        {
            "cell_type": "markdown",
            "metadata": {},
            "source": "# 2. Data Section\n\nThe data to be employed for this project will be obtained from the city of Hamilton website from the following webpage http://open.hamilton.ca/datasets/ac6fc684043341f6b1d6298c146a0bcf_1. Specifically, the webpage has data on the distinct municipal addresses in Hamilton. This dataset exists as both CSV files and GEOJSON files. Besides, the dataset consists of 253,876 rows of data and 13 columns (features). Observation of the CSV dataset reveals that the features include: \"X-Coordinate\", \"Y-Coordinate\",\" Object ID\", \"Longitude\", \"Latitude\",  \"Number Complete\",  \"Unit Number Complete\", \" Full Street Name\", \"Settlement\",  \"Community\", \"Muncipality\", \"Country\", \"Province.\n\nFurther inspection of the dataset indicates that the community in the city of Hamilton is divided into six which include; Hamilton, Dundas, Stoney Creek, Ancaster, Flamborough, and Glanbrook. Furthermore, the columns labeled  \"X-Coordinate\", \"Y-Coordinate\",\" Object ID\",  \"Number Complete\",  \"Unit Number Complete\",  \"Settlement\",  \"Muncipality\", \"Country\", and  \"Province do not add additional information and would be neglected from this analysis,\n\nFinally,  Foursquare data will be employed to explore venues in the city of Hamilton to have a proper understanding of trending venues and the best location for the car workshop business for Mr. Obembe and if possible propose alternative businesses."
        },
        {
            "cell_type": "markdown",
            "metadata": {},
            "source": "## 2.1 Sample of dataset"
        },
        {
            "cell_type": "code",
            "execution_count": 33,
            "metadata": {},
            "outputs": [
                {
                    "ename": "AttributeError",
                    "evalue": "'list' object has no attribute 'shape'",
                    "output_type": "error",
                    "traceback": [
                        "\u001b[0;31m---------------------------------------------------------------------------\u001b[0m",
                        "\u001b[0;31mAttributeError\u001b[0m                            Traceback (most recent call last)",
                        "\u001b[0;32m<ipython-input-33-67b0dc6a1f56>\u001b[0m in \u001b[0;36m<module>\u001b[0;34m\u001b[0m\n\u001b[1;32m     14\u001b[0m       \u001b[0mhamilton_data\u001b[0m \u001b[0;34m=\u001b[0m \u001b[0mjson\u001b[0m\u001b[0;34m.\u001b[0m\u001b[0mload\u001b[0m\u001b[0;34m(\u001b[0m\u001b[0mjson_data\u001b[0m\u001b[0;34m)\u001b[0m\u001b[0;34m\u001b[0m\u001b[0;34m\u001b[0m\u001b[0m\n\u001b[1;32m     15\u001b[0m \u001b[0mhamilton_neigh\u001b[0m \u001b[0;34m=\u001b[0m \u001b[0mhamilton_data\u001b[0m\u001b[0;34m[\u001b[0m\u001b[0;34m'features'\u001b[0m\u001b[0;34m]\u001b[0m\u001b[0;34m\u001b[0m\u001b[0;34m\u001b[0m\u001b[0m\n\u001b[0;32m---> 16\u001b[0;31m \u001b[0mhamilton_neigh\u001b[0m\u001b[0;34m.\u001b[0m\u001b[0mshape\u001b[0m\u001b[0;34m\u001b[0m\u001b[0;34m\u001b[0m\u001b[0m\n\u001b[0m",
                        "\u001b[0;31mAttributeError\u001b[0m: 'list' object has no attribute 'shape'"
                    ]
                }
            ],
            "source": "import numpy as np\nimport pandas as pd\nimport requests\nimport json\nfrom pandas.io.json import json_normalize\n#pd.set_option ('display.max_columns', None)\n#pd.set_option ('display.max_rows', None)\n#! pip install folium\n# Download and explore dataset\n!wget -q -O 'hamilton_data.json' https://opendata.arcgis.com/datasets/ac6fc684043341f6b1d6298c146a0bcf_1.geojson\n\n\nwith open ('hamilton_data.json') as json_data :\n      hamilton_data = json.load(json_data)\nhamilton_neigh = hamilton_data['features'][0:100]\nhamilton_neigh"
        },
        {
            "cell_type": "code",
            "execution_count": null,
            "metadata": {},
            "outputs": [],
            "source": "# Create dataframe\ncolumn_names =['ID','Longitude', 'Latitude', 'No Complete', 'Unit_Complete', 'Address', 'Settlement', 'Community', 'Muncipal', 'Nation', 'Province']\n#column_names =['Address','Longitude', 'Latitude', 'Community']\nneighborhoods = pd.DataFrame(columns= column_names)\n\n\nfor data in hamilton_neigh:\n    neigh_ID = data['properties']['OBJECTID']\n    neigh_lon = data ['properties']['LONGITUDE']\n    neigh_lat = data['properties']['LATITUDE']\n    neigh_comp = data['properties']['NUMBER_COMPLETE']\n    neigh_uncomp = data['properties']['UNIT_NUMBER_COMPLETE']\n    neigh_set = data['properties']['SETTLEMENT']\n    neigh_add = data['properties']['FULL_STREET_NAME']\n    neigh_comm = data['properties']['COMMUNITY']\n    neigh_mun = data['properties']['MUNICIPALITY']\n    neigh_con = data['properties']['COUNTRY']\n    neigh_prov = data['properties']['PROVINCE']\n    \n    \n    neighborhoods = neighborhoods. append({'ID': neigh_ID, 'Longitude': neigh_lon, 'Latitude': neigh_lat, 'No Complete' : neigh_comp , \n                                          'Unit Complete': neigh_uncomp, 'Address' :  neigh_add, 'Settlement' :neigh_set , 'Community':neigh_comm,\n                                           'Muncipal':neigh_mun, 'Nation':neigh_con ,'Province':  neigh_prov  }, ignore_index = True)\n    \n    #neighborhoods = neighborhoods. append({'Longitude':neigh_lon, 'Latitude':neigh_lat,'Address':neigh_add, 'Community':neigh_comm}, ignore_index = True)\n    \nneighborhoods.head()"
        },
        {
            "cell_type": "code",
            "execution_count": null,
            "metadata": {},
            "outputs": [],
            "source": ""
        }
    ],
    "metadata": {
        "kernelspec": {
            "display_name": "Python 3.6",
            "language": "python",
            "name": "python3"
        }
    },
    "nbformat": 4,
    "nbformat_minor": 1
}