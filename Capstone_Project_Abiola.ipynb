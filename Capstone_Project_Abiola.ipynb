{
    "cells": [
        {
            "cell_type": "markdown",
            "metadata": {
                "collapsed": true
            },
            "source": "# Auto-workshop location for a new business in Hamilton, Ontario\n ## Written by Abiola D. Obembe\n   ### Date: 23-01-2020"
        },
        {
            "cell_type": "markdown",
            "metadata": {},
            "source": "# 1.\tIntroduction\n\n\nHamilton is a port city in the Canadian province of Ontario. An industrialized city in the Golden Horseshoe at the west end of Lake Ontario, Hamilton has a population of 536,917, and its census metropolitan area, which includes Burlington and Grimsby, has a population of 747,545. The city is 58 kilometres (36 mi) southwest of Toronto, with which the Greater Toronto and Hamilton Area (GTHA) is formed. On January 1, 2001, the current boundaries of Hamilton were created through the amalgamation of the original city with other municipalities of the Regional Municipality of Hamilton\u2013Wentworth. Residents of the city are known as Hamiltonians. Since 1981, the metropolitan area has been listed as the ninth largest in Canada and the third largest in Ontario. Hamilton is home to the Royal Botanical Gardens, the Canadian Warplane Heritage Museum, the Bruce Trail, McMaster University, Redeemer University College and Mohawk College. McMaster University is ranked 4th in Canada and 77th in the world by Times Higher Education Rankings 2018\u201319.\n\nMr. Obembe has recently migrated to Ontario, Canada as a permanent resident and currently lives in the city of Hamilton. His long-term goal is to be an entrepreneur and hence part of the reasons he decided to relocate with his family to Canada. Apart from having huge funds to invest in a profitable business, the Canadian government offers incentives and tax waivers to business owners to assist entrepreneurs to establish successful businesses in Canada. After spending a few months in the city of Hamilton, Mr. Obembe is convinced to start his business empire in the city. However, after a careful study of the city, he is confident establishing an automobile repair workshop will be profitable. However, he is unsure of the best location for the workshop. The aim of this project is to utilize available data from the city of Hamilton and Foursquare location data to advise Mr. Obembe on the best location(s) for his workshop.\n\n\n\n\n"
        },
        {
            "cell_type": "markdown",
            "metadata": {},
            "source": "# 2. Data Section\n\nThe data to be employed for this project will be obtained from the city of Hamilton website from the following webpage http://open.hamilton.ca/datasets/ac6fc684043341f6b1d6298c146a0bcf_1. Specifically, the webpage has data on the distinct municipal addresses in Hamilton. This dataset exists as both CSV files and GEOJSON files. Besides, the dataset consists of 253,876 rows of data and 13 columns (features). Observation of the CSV dataset reveals that the features include: \"X-Coordinate\", \"Y-Coordinate\",\" Object ID\", \"Longitude\", \"Latitude\",  \"Number Complete\",  \"Unit Number Complete\", \" Full Street Name\", \"Settlement\",  \"Community\", \"Muncipality\", \"Country\", \"Province.\n\nFurther inspection of the dataset indicates that the community in the city of Hamilton is divided into six which include; Hamilton, Dundas, Stoney Creek, Ancaster, Flamborough, and Glanbrook. Furthermore, the columns labeled  \"X-Coordinate\", \"Y-Coordinate\",\" Object ID\",  \"Number Complete\",  \"Unit Number Complete\",  \"Settlement\",  \"Muncipality\", \"Country\", and  \"Province do not add additional information and would be neglected from this analysis,\n\nFinally,  Foursquare data will be employed to explore venues in the city of Hamilton to have a proper understanding of trending venues and the best location for the car workshop business for Mr. Obembe and if possible propose alternative businesses."
        },
        {
            "cell_type": "code",
            "execution_count": null,
            "metadata": {},
            "outputs": [],
            "source": ""
        }
    ],
    "metadata": {
        "kernelspec": {
            "display_name": "Python 3.6",
            "language": "python",
            "name": "python3"
        },
        "language_info": {
            "codemirror_mode": {
                "name": "ipython",
                "version": 3
            },
            "file_extension": ".py",
            "mimetype": "text/x-python",
            "name": "python",
            "nbconvert_exporter": "python",
            "pygments_lexer": "ipython3",
            "version": "3.6.9"
        }
    },
    "nbformat": 4,
    "nbformat_minor": 1
}