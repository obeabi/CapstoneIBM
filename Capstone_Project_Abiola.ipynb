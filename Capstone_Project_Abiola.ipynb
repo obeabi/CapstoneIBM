{
    "cells": [
        {
            "cell_type": "markdown",
            "metadata": {
                "collapsed": true
            },
            "source": "# Auto-workshop location for a new business in Hamilton, Ontario\n ## Report written by Abiola D. Obembe\n   ### Date: 23-01-2020"
        },
        {
            "cell_type": "markdown",
            "metadata": {},
            "source": "# 1.\tIntroduction\n\n\nHamilton is a port city in the Canadian province of Ontario. An industrialized city in the Golden Horseshoe at the west end of Lake Ontario, Hamilton has a population of 536,917, and its census metropolitan area, which includes Burlington and Grimsby, has a population of 747,545. The city is 58 kilometres (36 mi) southwest of Toronto, with which the Greater Toronto and Hamilton Area (GTHA) is formed. On January 1, 2001, the current boundaries of Hamilton were created through the amalgamation of the original city with other municipalities of the Regional Municipality of Hamilton\u2013Wentworth. Residents of the city are known as Hamiltonians. Since 1981, the metropolitan area has been listed as the ninth largest in Canada and the third largest in Ontario. Hamilton is home to the Royal Botanical Gardens, the Canadian Warplane Heritage Museum, the Bruce Trail, McMaster University, Redeemer University College and Mohawk College. McMaster University is ranked 4th in Canada and 77th in the world by Times Higher Education Rankings 2018\u201319.\n\nMr. Obembe has recently migrated to Ontario, Canada as a permanent resident and currently lives in the city of Hamilton. His long-term goal is to be an entrepreneur and hence part of the reasons he decided to relocate with his family to Canada. Apart from having huge funds to invest in a profitable business, the Canadian government offers incentives and tax waivers to business owners to assist entrepreneurs to establish successful businesses in Canada. After spending a few months in the city of Hamilton, Mr. Obembe is convinced to start his business empire in the city. However, after a careful study of the city, he is confident establishing an automobile repair workshop will be profitable. However, he is unsure of the best location for the workshop. The aim of this project is to utilize available data from the city of Hamilton and Foursquare location data to advise Mr. Obembe on the best location(s) for his workshop.\n\n\n\n\n"
        },
        {
            "cell_type": "markdown",
            "metadata": {},
            "source": "# 2. Data Section\n\nThe data to be employed for this project will be obtained from the city of Hamilton website from the following webpage http://open.hamilton.ca/datasets/ac6fc684043341f6b1d6298c146a0bcf_1. Specifically, the webpage has data on the distinct municipal addresses in Hamilton. This dataset exists as both CSV files and GEOJSON files. Besides, the dataset consists of 253,876 rows of data and 13 columns (features). Observation of the CSV dataset reveals that the features include: \"X-Coordinate\", \"Y-Coordinate\",\" Object ID\", \"Longitude\", \"Latitude\",  \"Number Complete\",  \"Unit Number Complete\", \" Full Street Name\", \"Settlement\",  \"Community\", \"Muncipality\", \"Country\", \"Province.\n\nFurther inspection of the dataset indicates that the community in the city of Hamilton is divided into six which include; Hamilton, Dundas, Stoney Creek, Ancaster, Flamborough, and Glanbrook. Furthermore, the columns labeled  \"X-Coordinate\", \"Y-Coordinate\",\" Object ID\",  \"Number Complete\",  \"Unit Number Complete\",  \"Settlement\",  \"Muncipality\", \"Country\", and  \"Province do not add additional information and would be neglected from this analysis,\n\nFinally,  Foursquare data will be employed to explore venues in the city of Hamilton to have a proper understanding of trending venues and the best location for the car workshop business for Mr. Obembe and if possible propose alternative businesses."
        },
        {
            "cell_type": "markdown",
            "metadata": {},
            "source": "## 2.1 Sample of dataset"
        },
        {
            "cell_type": "code",
            "execution_count": 1,
            "metadata": {},
            "outputs": [
                {
                    "data": {
                        "text/plain": "[{'type': 'Feature',\n  'properties': {'OBJECTID': 1,\n   'LONGITUDE': '-79.82497072661397',\n   'LATITUDE': '43.23736286455134',\n   'NUMBER_COMPLETE': '175',\n   'UNIT_NUMBER_COMPLETE': None,\n   'FULL_STREET_NAME': 'Rosslyn Avenue South',\n   'SETTLEMENT': None,\n   'COMMUNITY': 'Hamilton',\n   'MUNICIPALITY': 'City of Hamilton',\n   'COUNTRY': 'Canada',\n   'PROVINCE': 'Ontario'},\n  'geometry': {'type': 'Point',\n   'coordinates': [-79.82497421463455, 43.23737135576617]}},\n {'type': 'Feature',\n  'properties': {'OBJECTID': 2,\n   'LONGITUDE': '-79.80106274601975',\n   'LATITUDE': '43.24317143047433',\n   'NUMBER_COMPLETE': '157',\n   'UNIT_NUMBER_COMPLETE': None,\n   'FULL_STREET_NAME': 'Fairfield Avenue',\n   'SETTLEMENT': None,\n   'COMMUNITY': 'Hamilton',\n   'MUNICIPALITY': 'City of Hamilton',\n   'COUNTRY': 'Canada',\n   'PROVINCE': 'Ontario'},\n  'geometry': {'type': 'Point',\n   'coordinates': [-79.80106622696937, 43.243179923829864]}},\n {'type': 'Feature',\n  'properties': {'OBJECTID': 3,\n   'LONGITUDE': '-79.74809657922549',\n   'LATITUDE': '43.21913423447913',\n   'NUMBER_COMPLETE': '44',\n   'UNIT_NUMBER_COMPLETE': None,\n   'FULL_STREET_NAME': 'James Avenue',\n   'SETTLEMENT': None,\n   'COMMUNITY': 'Stoney Creek',\n   'MUNICIPALITY': 'City of Hamilton',\n   'COUNTRY': 'Canada',\n   'PROVINCE': 'Ontario'},\n  'geometry': {'type': 'Point',\n   'coordinates': [-79.74810004130018, 43.219142726033795]}},\n {'type': 'Feature',\n  'properties': {'OBJECTID': 4,\n   'LONGITUDE': '-79.77667521465305',\n   'LATITUDE': '43.24199491488416',\n   'NUMBER_COMPLETE': '2058',\n   'UNIT_NUMBER_COMPLETE': None,\n   'FULL_STREET_NAME': 'Barton Street East',\n   'SETTLEMENT': None,\n   'COMMUNITY': 'Hamilton',\n   'MUNICIPALITY': 'City of Hamilton',\n   'COUNTRY': 'Canada',\n   'PROVINCE': 'Ontario'},\n  'geometry': {'type': 'Point',\n   'coordinates': [-79.77667868777073, 43.242003409164546]}},\n {'type': 'Feature',\n  'properties': {'OBJECTID': 5,\n   'LONGITUDE': '-79.95352551773341',\n   'LATITUDE': '43.26591819118141',\n   'NUMBER_COMPLETE': '2',\n   'UNIT_NUMBER_COMPLETE': None,\n   'FULL_STREET_NAME': 'King Street East',\n   'SETTLEMENT': None,\n   'COMMUNITY': 'Dundas',\n   'MUNICIPALITY': 'City of Hamilton',\n   'COUNTRY': 'Canada',\n   'PROVINCE': 'Ontario'},\n  'geometry': {'type': 'Point',\n   'coordinates': [-79.95352904896885, 43.26592668145493]}},\n {'type': 'Feature',\n  'properties': {'OBJECTID': 6,\n   'LONGITUDE': '-79.80276483201067',\n   'LATITUDE': '43.18841547634775',\n   'NUMBER_COMPLETE': '380',\n   'UNIT_NUMBER_COMPLETE': None,\n   'FULL_STREET_NAME': 'Highland Road West',\n   'SETTLEMENT': None,\n   'COMMUNITY': 'Stoney Creek',\n   'MUNICIPALITY': 'City of Hamilton',\n   'COUNTRY': 'Canada',\n   'PROVINCE': 'Ontario'},\n  'geometry': {'type': 'Point',\n   'coordinates': [-79.80276830874446, 43.188423959917344]}},\n {'type': 'Feature',\n  'properties': {'OBJECTID': 7,\n   'LONGITUDE': '-79.88533887287194',\n   'LATITUDE': '43.19592024287557',\n   'NUMBER_COMPLETE': '345',\n   'UNIT_NUMBER_COMPLETE': None,\n   'FULL_STREET_NAME': 'Jacqueline Boulevard',\n   'SETTLEMENT': None,\n   'COMMUNITY': 'Hamilton',\n   'MUNICIPALITY': 'City of Hamilton',\n   'COUNTRY': 'Canada',\n   'PROVINCE': 'Ontario'},\n  'geometry': {'type': 'Point',\n   'coordinates': [-79.885342376408, 43.19592872393725]}},\n {'type': 'Feature',\n  'properties': {'OBJECTID': 8,\n   'LONGITUDE': '-79.79513654537254',\n   'LATITUDE': '43.230741534193704',\n   'NUMBER_COMPLETE': '215',\n   'UNIT_NUMBER_COMPLETE': None,\n   'FULL_STREET_NAME': 'Glencairn Avenue',\n   'SETTLEMENT': None,\n   'COMMUNITY': 'Hamilton',\n   'MUNICIPALITY': 'City of Hamilton',\n   'COUNTRY': 'Canada',\n   'PROVINCE': 'Ontario'},\n  'geometry': {'type': 'Point',\n   'coordinates': [-79.79514002336337, 43.23075002562242]}},\n {'type': 'Feature',\n  'properties': {'OBJECTID': 9,\n   'LONGITUDE': '-79.90875323080711',\n   'LATITUDE': '43.24039069228728',\n   'NUMBER_COMPLETE': '182',\n   'UNIT_NUMBER_COMPLETE': None,\n   'FULL_STREET_NAME': 'Upper Paradise Road',\n   'SETTLEMENT': None,\n   'COMMUNITY': 'Hamilton',\n   'MUNICIPALITY': 'City of Hamilton',\n   'COUNTRY': 'Canada',\n   'PROVINCE': 'Ontario'},\n  'geometry': {'type': 'Point',\n   'coordinates': [-79.9087567456322, 43.240399180135306]}},\n {'type': 'Feature',\n  'properties': {'OBJECTID': 10,\n   'LONGITUDE': '-79.94336453622668',\n   'LATITUDE': '43.22637025281532',\n   'NUMBER_COMPLETE': '980',\n   'UNIT_NUMBER_COMPLETE': '104',\n   'FULL_STREET_NAME': 'Golf Links Road',\n   'SETTLEMENT': None,\n   'COMMUNITY': 'Ancaster',\n   'MUNICIPALITY': 'City of Hamilton',\n   'COUNTRY': 'Canada',\n   'PROVINCE': 'Ontario'},\n  'geometry': {'type': 'Point',\n   'coordinates': [-79.94336806078731, 43.22637873656607]}}]"
                    },
                    "execution_count": 1,
                    "metadata": {},
                    "output_type": "execute_result"
                }
            ],
            "source": "import numpy as np\nimport pandas as pd\nimport requests\nimport json\nfrom pandas.io.json import json_normalize\n#pd.set_option ('display.max_columns', None)\n#pd.set_option ('display.max_rows', None)\n#! pip install folium\n# Download and explore dataset\n!wget -q -O 'hamilton_data.json' https://opendata.arcgis.com/datasets/ac6fc684043341f6b1d6298c146a0bcf_1.geojson\n\n\nwith open ('hamilton_data.json') as json_data :\n      hamilton_data = json.load(json_data)\nhamilton_neigh = hamilton_data['features'][0:10]\nhamilton_neigh"
        },
        {
            "cell_type": "code",
            "execution_count": 2,
            "metadata": {},
            "outputs": [
                {
                    "data": {
                        "text/html": "<div>\n<style scoped>\n    .dataframe tbody tr th:only-of-type {\n        vertical-align: middle;\n    }\n\n    .dataframe tbody tr th {\n        vertical-align: top;\n    }\n\n    .dataframe thead th {\n        text-align: right;\n    }\n</style>\n<table border=\"1\" class=\"dataframe\">\n  <thead>\n    <tr style=\"text-align: right;\">\n      <th></th>\n      <th>ID</th>\n      <th>Longitude</th>\n      <th>Latitude</th>\n      <th>No Complete</th>\n      <th>Unit_Complete</th>\n      <th>Address</th>\n      <th>Settlement</th>\n      <th>Community</th>\n      <th>Muncipal</th>\n      <th>Nation</th>\n      <th>Province</th>\n      <th>Unit Complete</th>\n    </tr>\n  </thead>\n  <tbody>\n    <tr>\n      <th>0</th>\n      <td>1</td>\n      <td>-79.82497072661397</td>\n      <td>43.23736286455134</td>\n      <td>175</td>\n      <td>NaN</td>\n      <td>Rosslyn Avenue South</td>\n      <td>None</td>\n      <td>Hamilton</td>\n      <td>City of Hamilton</td>\n      <td>Canada</td>\n      <td>Ontario</td>\n      <td>None</td>\n    </tr>\n    <tr>\n      <th>1</th>\n      <td>2</td>\n      <td>-79.80106274601975</td>\n      <td>43.24317143047433</td>\n      <td>157</td>\n      <td>NaN</td>\n      <td>Fairfield Avenue</td>\n      <td>None</td>\n      <td>Hamilton</td>\n      <td>City of Hamilton</td>\n      <td>Canada</td>\n      <td>Ontario</td>\n      <td>None</td>\n    </tr>\n    <tr>\n      <th>2</th>\n      <td>3</td>\n      <td>-79.74809657922549</td>\n      <td>43.21913423447913</td>\n      <td>44</td>\n      <td>NaN</td>\n      <td>James Avenue</td>\n      <td>None</td>\n      <td>Stoney Creek</td>\n      <td>City of Hamilton</td>\n      <td>Canada</td>\n      <td>Ontario</td>\n      <td>None</td>\n    </tr>\n    <tr>\n      <th>3</th>\n      <td>4</td>\n      <td>-79.77667521465305</td>\n      <td>43.24199491488416</td>\n      <td>2058</td>\n      <td>NaN</td>\n      <td>Barton Street East</td>\n      <td>None</td>\n      <td>Hamilton</td>\n      <td>City of Hamilton</td>\n      <td>Canada</td>\n      <td>Ontario</td>\n      <td>None</td>\n    </tr>\n    <tr>\n      <th>4</th>\n      <td>5</td>\n      <td>-79.95352551773341</td>\n      <td>43.26591819118141</td>\n      <td>2</td>\n      <td>NaN</td>\n      <td>King Street East</td>\n      <td>None</td>\n      <td>Dundas</td>\n      <td>City of Hamilton</td>\n      <td>Canada</td>\n      <td>Ontario</td>\n      <td>None</td>\n    </tr>\n  </tbody>\n</table>\n</div>",
                        "text/plain": "  ID           Longitude           Latitude No Complete Unit_Complete  \\\n0  1  -79.82497072661397  43.23736286455134         175           NaN   \n1  2  -79.80106274601975  43.24317143047433         157           NaN   \n2  3  -79.74809657922549  43.21913423447913          44           NaN   \n3  4  -79.77667521465305  43.24199491488416        2058           NaN   \n4  5  -79.95352551773341  43.26591819118141           2           NaN   \n\n                Address Settlement     Community          Muncipal  Nation  \\\n0  Rosslyn Avenue South       None      Hamilton  City of Hamilton  Canada   \n1      Fairfield Avenue       None      Hamilton  City of Hamilton  Canada   \n2          James Avenue       None  Stoney Creek  City of Hamilton  Canada   \n3    Barton Street East       None      Hamilton  City of Hamilton  Canada   \n4      King Street East       None        Dundas  City of Hamilton  Canada   \n\n  Province Unit Complete  \n0  Ontario          None  \n1  Ontario          None  \n2  Ontario          None  \n3  Ontario          None  \n4  Ontario          None  "
                    },
                    "execution_count": 2,
                    "metadata": {},
                    "output_type": "execute_result"
                }
            ],
            "source": "# Create dataframe\ncolumn_names =['ID','Longitude', 'Latitude', 'No Complete', 'Unit_Complete', 'Address', 'Settlement', 'Community', 'Muncipal', 'Nation', 'Province']\n#column_names =['Address','Longitude', 'Latitude', 'Community']\nneighborhoods = pd.DataFrame(columns= column_names)\n\n\nfor data in hamilton_neigh:\n    neigh_ID = data['properties']['OBJECTID']\n    neigh_lon = data ['properties']['LONGITUDE']\n    neigh_lat = data['properties']['LATITUDE']\n    neigh_comp = data['properties']['NUMBER_COMPLETE']\n    neigh_uncomp = data['properties']['UNIT_NUMBER_COMPLETE']\n    neigh_set = data['properties']['SETTLEMENT']\n    neigh_add = data['properties']['FULL_STREET_NAME']\n    neigh_comm = data['properties']['COMMUNITY']\n    neigh_mun = data['properties']['MUNICIPALITY']\n    neigh_con = data['properties']['COUNTRY']\n    neigh_prov = data['properties']['PROVINCE']\n    \n    \n    neighborhoods = neighborhoods. append({'ID': neigh_ID, 'Longitude': neigh_lon, 'Latitude': neigh_lat, 'No Complete' : neigh_comp , \n                                          'Unit Complete': neigh_uncomp, 'Address' :  neigh_add, 'Settlement' :neigh_set , 'Community':neigh_comm,\n                                           'Muncipal':neigh_mun, 'Nation':neigh_con ,'Province':  neigh_prov  }, ignore_index = True)\n    \n    #neighborhoods = neighborhoods. append({'Longitude':neigh_lon, 'Latitude':neigh_lat,'Address':neigh_add, 'Community':neigh_comm}, ignore_index = True)\n    \nneighborhoods.head()"
        },
        {
            "cell_type": "code",
            "execution_count": null,
            "metadata": {},
            "outputs": [],
            "source": ""
        }
    ],
    "metadata": {
        "kernelspec": {
            "display_name": "Python 3.6",
            "language": "python",
            "name": "python3"
        },
        "language_info": {
            "codemirror_mode": {
                "name": "ipython",
                "version": 3
            },
            "file_extension": ".py",
            "mimetype": "text/x-python",
            "name": "python",
            "nbconvert_exporter": "python",
            "pygments_lexer": "ipython3",
            "version": "3.6.9"
        }
    },
    "nbformat": 4,
    "nbformat_minor": 1
}